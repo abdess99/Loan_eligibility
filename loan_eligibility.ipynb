{
 "cells": [
  {
   "cell_type": "code",
   "execution_count": 105,
   "metadata": {
    "collapsed": true,
    "pycharm": {
     "name": "#%%\n"
    }
   },
   "outputs": [],
   "source": [
    "import pandas as pd\n",
    "import seaborn as sns\n",
    "from matplotlib import pyplot as plt\n",
    "import numpy as np"
   ]
  },
  {
   "cell_type": "code",
   "execution_count": 106,
   "outputs": [
    {
     "data": {
      "text/plain": "         Loan_ID Gender Married Dependents Education Self_Employed  \\\ncount        614    601     611        599       614           582   \nunique       614      2       2          4         2             2   \ntop     LP001002   Male     Yes          0  Graduate            No   \nfreq           1    489     398        345       480           500   \nmean         NaN    NaN     NaN        NaN       NaN           NaN   \nstd          NaN    NaN     NaN        NaN       NaN           NaN   \nmin          NaN    NaN     NaN        NaN       NaN           NaN   \n25%          NaN    NaN     NaN        NaN       NaN           NaN   \n50%          NaN    NaN     NaN        NaN       NaN           NaN   \n75%          NaN    NaN     NaN        NaN       NaN           NaN   \nmax          NaN    NaN     NaN        NaN       NaN           NaN   \n\n        ApplicantIncome  CoapplicantIncome  LoanAmount  Loan_Amount_Term  \\\ncount        614.000000         614.000000  592.000000         600.00000   \nunique              NaN                NaN         NaN               NaN   \ntop                 NaN                NaN         NaN               NaN   \nfreq                NaN                NaN         NaN               NaN   \nmean        5403.459283        1621.245798  146.412162         342.00000   \nstd         6109.041673        2926.248369   85.587325          65.12041   \nmin          150.000000           0.000000    9.000000          12.00000   \n25%         2877.500000           0.000000  100.000000         360.00000   \n50%         3812.500000        1188.500000  128.000000         360.00000   \n75%         5795.000000        2297.250000  168.000000         360.00000   \nmax        81000.000000       41667.000000  700.000000         480.00000   \n\n        Credit_History Property_Area Loan_Status  \ncount       564.000000           614         614  \nunique             NaN             3           2  \ntop                NaN     Semiurban           Y  \nfreq               NaN           233         422  \nmean          0.842199           NaN         NaN  \nstd           0.364878           NaN         NaN  \nmin           0.000000           NaN         NaN  \n25%           1.000000           NaN         NaN  \n50%           1.000000           NaN         NaN  \n75%           1.000000           NaN         NaN  \nmax           1.000000           NaN         NaN  ",
      "text/html": "<div>\n<style scoped>\n    .dataframe tbody tr th:only-of-type {\n        vertical-align: middle;\n    }\n\n    .dataframe tbody tr th {\n        vertical-align: top;\n    }\n\n    .dataframe thead th {\n        text-align: right;\n    }\n</style>\n<table border=\"1\" class=\"dataframe\">\n  <thead>\n    <tr style=\"text-align: right;\">\n      <th></th>\n      <th>Loan_ID</th>\n      <th>Gender</th>\n      <th>Married</th>\n      <th>Dependents</th>\n      <th>Education</th>\n      <th>Self_Employed</th>\n      <th>ApplicantIncome</th>\n      <th>CoapplicantIncome</th>\n      <th>LoanAmount</th>\n      <th>Loan_Amount_Term</th>\n      <th>Credit_History</th>\n      <th>Property_Area</th>\n      <th>Loan_Status</th>\n    </tr>\n  </thead>\n  <tbody>\n    <tr>\n      <th>count</th>\n      <td>614</td>\n      <td>601</td>\n      <td>611</td>\n      <td>599</td>\n      <td>614</td>\n      <td>582</td>\n      <td>614.000000</td>\n      <td>614.000000</td>\n      <td>592.000000</td>\n      <td>600.00000</td>\n      <td>564.000000</td>\n      <td>614</td>\n      <td>614</td>\n    </tr>\n    <tr>\n      <th>unique</th>\n      <td>614</td>\n      <td>2</td>\n      <td>2</td>\n      <td>4</td>\n      <td>2</td>\n      <td>2</td>\n      <td>NaN</td>\n      <td>NaN</td>\n      <td>NaN</td>\n      <td>NaN</td>\n      <td>NaN</td>\n      <td>3</td>\n      <td>2</td>\n    </tr>\n    <tr>\n      <th>top</th>\n      <td>LP001002</td>\n      <td>Male</td>\n      <td>Yes</td>\n      <td>0</td>\n      <td>Graduate</td>\n      <td>No</td>\n      <td>NaN</td>\n      <td>NaN</td>\n      <td>NaN</td>\n      <td>NaN</td>\n      <td>NaN</td>\n      <td>Semiurban</td>\n      <td>Y</td>\n    </tr>\n    <tr>\n      <th>freq</th>\n      <td>1</td>\n      <td>489</td>\n      <td>398</td>\n      <td>345</td>\n      <td>480</td>\n      <td>500</td>\n      <td>NaN</td>\n      <td>NaN</td>\n      <td>NaN</td>\n      <td>NaN</td>\n      <td>NaN</td>\n      <td>233</td>\n      <td>422</td>\n    </tr>\n    <tr>\n      <th>mean</th>\n      <td>NaN</td>\n      <td>NaN</td>\n      <td>NaN</td>\n      <td>NaN</td>\n      <td>NaN</td>\n      <td>NaN</td>\n      <td>5403.459283</td>\n      <td>1621.245798</td>\n      <td>146.412162</td>\n      <td>342.00000</td>\n      <td>0.842199</td>\n      <td>NaN</td>\n      <td>NaN</td>\n    </tr>\n    <tr>\n      <th>std</th>\n      <td>NaN</td>\n      <td>NaN</td>\n      <td>NaN</td>\n      <td>NaN</td>\n      <td>NaN</td>\n      <td>NaN</td>\n      <td>6109.041673</td>\n      <td>2926.248369</td>\n      <td>85.587325</td>\n      <td>65.12041</td>\n      <td>0.364878</td>\n      <td>NaN</td>\n      <td>NaN</td>\n    </tr>\n    <tr>\n      <th>min</th>\n      <td>NaN</td>\n      <td>NaN</td>\n      <td>NaN</td>\n      <td>NaN</td>\n      <td>NaN</td>\n      <td>NaN</td>\n      <td>150.000000</td>\n      <td>0.000000</td>\n      <td>9.000000</td>\n      <td>12.00000</td>\n      <td>0.000000</td>\n      <td>NaN</td>\n      <td>NaN</td>\n    </tr>\n    <tr>\n      <th>25%</th>\n      <td>NaN</td>\n      <td>NaN</td>\n      <td>NaN</td>\n      <td>NaN</td>\n      <td>NaN</td>\n      <td>NaN</td>\n      <td>2877.500000</td>\n      <td>0.000000</td>\n      <td>100.000000</td>\n      <td>360.00000</td>\n      <td>1.000000</td>\n      <td>NaN</td>\n      <td>NaN</td>\n    </tr>\n    <tr>\n      <th>50%</th>\n      <td>NaN</td>\n      <td>NaN</td>\n      <td>NaN</td>\n      <td>NaN</td>\n      <td>NaN</td>\n      <td>NaN</td>\n      <td>3812.500000</td>\n      <td>1188.500000</td>\n      <td>128.000000</td>\n      <td>360.00000</td>\n      <td>1.000000</td>\n      <td>NaN</td>\n      <td>NaN</td>\n    </tr>\n    <tr>\n      <th>75%</th>\n      <td>NaN</td>\n      <td>NaN</td>\n      <td>NaN</td>\n      <td>NaN</td>\n      <td>NaN</td>\n      <td>NaN</td>\n      <td>5795.000000</td>\n      <td>2297.250000</td>\n      <td>168.000000</td>\n      <td>360.00000</td>\n      <td>1.000000</td>\n      <td>NaN</td>\n      <td>NaN</td>\n    </tr>\n    <tr>\n      <th>max</th>\n      <td>NaN</td>\n      <td>NaN</td>\n      <td>NaN</td>\n      <td>NaN</td>\n      <td>NaN</td>\n      <td>NaN</td>\n      <td>81000.000000</td>\n      <td>41667.000000</td>\n      <td>700.000000</td>\n      <td>480.00000</td>\n      <td>1.000000</td>\n      <td>NaN</td>\n      <td>NaN</td>\n    </tr>\n  </tbody>\n</table>\n</div>"
     },
     "execution_count": 106,
     "metadata": {},
     "output_type": "execute_result"
    }
   ],
   "source": [
    "df = pd.read_csv('loan-train.csv')\n",
    "df.describe(include='all')"
   ],
   "metadata": {
    "collapsed": false,
    "pycharm": {
     "name": "#%%\n"
    }
   }
  },
  {
   "cell_type": "code",
   "execution_count": 107,
   "outputs": [
    {
     "data": {
      "text/plain": "       Gender Married Dependents Education Self_Employed  ApplicantIncome  \\\ncount     614     614        614       614           614       614.000000   \nunique      2       2          4         2             2              NaN   \ntop      Male     Yes          0  Graduate            No              NaN   \nfreq      502     401        360       480           532              NaN   \nmean      NaN     NaN        NaN       NaN           NaN      5403.459283   \nstd       NaN     NaN        NaN       NaN           NaN      6109.041673   \nmin       NaN     NaN        NaN       NaN           NaN       150.000000   \n25%       NaN     NaN        NaN       NaN           NaN      2877.500000   \n50%       NaN     NaN        NaN       NaN           NaN      3812.500000   \n75%       NaN     NaN        NaN       NaN           NaN      5795.000000   \nmax       NaN     NaN        NaN       NaN           NaN     81000.000000   \n\n        CoapplicantIncome  LoanAmount  Loan_Amount_Term  Credit_History  \\\ncount          614.000000  614.000000        614.000000      614.000000   \nunique                NaN         NaN               NaN             NaN   \ntop                   NaN         NaN               NaN             NaN   \nfreq                  NaN         NaN               NaN             NaN   \nmean          1621.245798  146.412162        342.000000        0.855049   \nstd           2926.248369   84.037468         64.372489        0.352339   \nmin              0.000000    9.000000         12.000000        0.000000   \n25%              0.000000  100.250000        360.000000        1.000000   \n50%           1188.500000  129.000000        360.000000        1.000000   \n75%           2297.250000  164.750000        360.000000        1.000000   \nmax          41667.000000  700.000000        480.000000        1.000000   \n\n       Property_Area Loan_Status  \ncount            614         614  \nunique             3           2  \ntop        Semiurban           Y  \nfreq             233         422  \nmean             NaN         NaN  \nstd              NaN         NaN  \nmin              NaN         NaN  \n25%              NaN         NaN  \n50%              NaN         NaN  \n75%              NaN         NaN  \nmax              NaN         NaN  ",
      "text/html": "<div>\n<style scoped>\n    .dataframe tbody tr th:only-of-type {\n        vertical-align: middle;\n    }\n\n    .dataframe tbody tr th {\n        vertical-align: top;\n    }\n\n    .dataframe thead th {\n        text-align: right;\n    }\n</style>\n<table border=\"1\" class=\"dataframe\">\n  <thead>\n    <tr style=\"text-align: right;\">\n      <th></th>\n      <th>Gender</th>\n      <th>Married</th>\n      <th>Dependents</th>\n      <th>Education</th>\n      <th>Self_Employed</th>\n      <th>ApplicantIncome</th>\n      <th>CoapplicantIncome</th>\n      <th>LoanAmount</th>\n      <th>Loan_Amount_Term</th>\n      <th>Credit_History</th>\n      <th>Property_Area</th>\n      <th>Loan_Status</th>\n    </tr>\n  </thead>\n  <tbody>\n    <tr>\n      <th>count</th>\n      <td>614</td>\n      <td>614</td>\n      <td>614</td>\n      <td>614</td>\n      <td>614</td>\n      <td>614.000000</td>\n      <td>614.000000</td>\n      <td>614.000000</td>\n      <td>614.000000</td>\n      <td>614.000000</td>\n      <td>614</td>\n      <td>614</td>\n    </tr>\n    <tr>\n      <th>unique</th>\n      <td>2</td>\n      <td>2</td>\n      <td>4</td>\n      <td>2</td>\n      <td>2</td>\n      <td>NaN</td>\n      <td>NaN</td>\n      <td>NaN</td>\n      <td>NaN</td>\n      <td>NaN</td>\n      <td>3</td>\n      <td>2</td>\n    </tr>\n    <tr>\n      <th>top</th>\n      <td>Male</td>\n      <td>Yes</td>\n      <td>0</td>\n      <td>Graduate</td>\n      <td>No</td>\n      <td>NaN</td>\n      <td>NaN</td>\n      <td>NaN</td>\n      <td>NaN</td>\n      <td>NaN</td>\n      <td>Semiurban</td>\n      <td>Y</td>\n    </tr>\n    <tr>\n      <th>freq</th>\n      <td>502</td>\n      <td>401</td>\n      <td>360</td>\n      <td>480</td>\n      <td>532</td>\n      <td>NaN</td>\n      <td>NaN</td>\n      <td>NaN</td>\n      <td>NaN</td>\n      <td>NaN</td>\n      <td>233</td>\n      <td>422</td>\n    </tr>\n    <tr>\n      <th>mean</th>\n      <td>NaN</td>\n      <td>NaN</td>\n      <td>NaN</td>\n      <td>NaN</td>\n      <td>NaN</td>\n      <td>5403.459283</td>\n      <td>1621.245798</td>\n      <td>146.412162</td>\n      <td>342.000000</td>\n      <td>0.855049</td>\n      <td>NaN</td>\n      <td>NaN</td>\n    </tr>\n    <tr>\n      <th>std</th>\n      <td>NaN</td>\n      <td>NaN</td>\n      <td>NaN</td>\n      <td>NaN</td>\n      <td>NaN</td>\n      <td>6109.041673</td>\n      <td>2926.248369</td>\n      <td>84.037468</td>\n      <td>64.372489</td>\n      <td>0.352339</td>\n      <td>NaN</td>\n      <td>NaN</td>\n    </tr>\n    <tr>\n      <th>min</th>\n      <td>NaN</td>\n      <td>NaN</td>\n      <td>NaN</td>\n      <td>NaN</td>\n      <td>NaN</td>\n      <td>150.000000</td>\n      <td>0.000000</td>\n      <td>9.000000</td>\n      <td>12.000000</td>\n      <td>0.000000</td>\n      <td>NaN</td>\n      <td>NaN</td>\n    </tr>\n    <tr>\n      <th>25%</th>\n      <td>NaN</td>\n      <td>NaN</td>\n      <td>NaN</td>\n      <td>NaN</td>\n      <td>NaN</td>\n      <td>2877.500000</td>\n      <td>0.000000</td>\n      <td>100.250000</td>\n      <td>360.000000</td>\n      <td>1.000000</td>\n      <td>NaN</td>\n      <td>NaN</td>\n    </tr>\n    <tr>\n      <th>50%</th>\n      <td>NaN</td>\n      <td>NaN</td>\n      <td>NaN</td>\n      <td>NaN</td>\n      <td>NaN</td>\n      <td>3812.500000</td>\n      <td>1188.500000</td>\n      <td>129.000000</td>\n      <td>360.000000</td>\n      <td>1.000000</td>\n      <td>NaN</td>\n      <td>NaN</td>\n    </tr>\n    <tr>\n      <th>75%</th>\n      <td>NaN</td>\n      <td>NaN</td>\n      <td>NaN</td>\n      <td>NaN</td>\n      <td>NaN</td>\n      <td>5795.000000</td>\n      <td>2297.250000</td>\n      <td>164.750000</td>\n      <td>360.000000</td>\n      <td>1.000000</td>\n      <td>NaN</td>\n      <td>NaN</td>\n    </tr>\n    <tr>\n      <th>max</th>\n      <td>NaN</td>\n      <td>NaN</td>\n      <td>NaN</td>\n      <td>NaN</td>\n      <td>NaN</td>\n      <td>81000.000000</td>\n      <td>41667.000000</td>\n      <td>700.000000</td>\n      <td>480.000000</td>\n      <td>1.000000</td>\n      <td>NaN</td>\n      <td>NaN</td>\n    </tr>\n  </tbody>\n</table>\n</div>"
     },
     "execution_count": 107,
     "metadata": {},
     "output_type": "execute_result"
    }
   ],
   "source": [
    "#clean_data\n",
    "df = df.drop(['Loan_ID'], axis=1)\n",
    "#categorical variables\n",
    "df['Gender'].fillna(df['Gender'].mode()[0], inplace=True)\n",
    "df['Married'].fillna(df['Married'].mode()[0], inplace=True)\n",
    "df['Dependents'].fillna(df['Dependents'].mode()[0], inplace=True)\n",
    "df['Self_Employed'].fillna(df['Self_Employed'].mode()[0], inplace=True)\n",
    "df['Credit_History'].fillna(df['Credit_History'].mode()[0], inplace=True)\n",
    "#numerical\n",
    "df['LoanAmount'].fillna(df['LoanAmount'].mean(), inplace=True)\n",
    "df['Loan_Amount_Term'].fillna(df['Loan_Amount_Term'].mean(), inplace=True)\n",
    "df.describe(include='all')"
   ],
   "metadata": {
    "collapsed": false,
    "pycharm": {
     "name": "#%%\n"
    }
   }
  },
  {
   "cell_type": "code",
   "execution_count": 108,
   "outputs": [],
   "source": [
    "df.loc[df['Dependents'] == '3+', 'Dependents'] = 3\n",
    "df['Dependents'] = df['Dependents'].astype(int)"
   ],
   "metadata": {
    "collapsed": false,
    "pycharm": {
     "name": "#%%\n"
    }
   }
  },
  {
   "cell_type": "code",
   "execution_count": 109,
   "outputs": [],
   "source": [
    "df['Loan_Status'] = (df.Loan_Status == 'Y').astype(int)\n",
    "df['Gender'] = (df.Gender == 'Male').astype(int)\n",
    "df['Married'] = (df.Married == 'Yes').astype(int)\n",
    "df['Education'] = (df.Education == 'Graduate').astype(int)\n",
    "df['Self_Employed'] = (df.Self_Employed != 'No').astype(int)"
   ],
   "metadata": {
    "collapsed": false,
    "pycharm": {
     "name": "#%%\n"
    }
   }
  },
  {
   "cell_type": "code",
   "execution_count": 110,
   "outputs": [],
   "source": [
    "df.loc[df['Property_Area'] == 'Rural', 'Property_Area'] = 0\n",
    "df.loc[df['Property_Area'] == 'Semiurban', 'Property_Area'] = 0.5\n",
    "df.loc[df['Property_Area'] == 'Urban', 'Property_Area'] = 1\n",
    "df['Property_Area'] = df['Property_Area'].astype('float64')"
   ],
   "metadata": {
    "collapsed": false,
    "pycharm": {
     "name": "#%%\n"
    }
   }
  },
  {
   "cell_type": "code",
   "execution_count": 111,
   "outputs": [
    {
     "data": {
      "text/plain": "Gender                 int64\nMarried                int64\nDependents             int64\nEducation              int64\nSelf_Employed          int64\nApplicantIncome        int64\nCoapplicantIncome    float64\nLoanAmount           float64\nLoan_Amount_Term     float64\nCredit_History       float64\nProperty_Area        float64\nLoan_Status            int64\ndtype: object"
     },
     "execution_count": 111,
     "metadata": {},
     "output_type": "execute_result"
    }
   ],
   "source": [
    "df.dtypes"
   ],
   "metadata": {
    "collapsed": false,
    "pycharm": {
     "name": "#%%\n"
    }
   }
  },
  {
   "cell_type": "code",
   "execution_count": 112,
   "outputs": [],
   "source": [
    "corr_mat = df.corr()"
   ],
   "metadata": {
    "collapsed": false,
    "pycharm": {
     "name": "#%%\n"
    }
   }
  },
  {
   "cell_type": "code",
   "execution_count": 113,
   "outputs": [
    {
     "data": {
      "text/plain": "<AxesSubplot:>"
     },
     "execution_count": 113,
     "metadata": {},
     "output_type": "execute_result"
    },
    {
     "data": {
      "text/plain": "<Figure size 432x288 with 2 Axes>",
      "image/png": "[encoded data removed]"
     },
     "metadata": {
      "needs_background": "light"
     },
     "output_type": "display_data"
    }
   ],
   "source": [
    "sns.heatmap(corr_mat,\n",
    "            xticklabels=corr_mat.columns,\n",
    "            yticklabels=corr_mat.columns)"
   ],
   "metadata": {
    "collapsed": false,
    "pycharm": {
     "name": "#%%\n"
    }
   }
  },
  {
   "cell_type": "code",
   "execution_count": 114,
   "outputs": [
    {
     "data": {
      "text/plain": "                     Gender   Married  Dependents  Education  Self_Employed  \\\nGender             1.000000  0.364569    0.172914  -0.045364      -0.000525   \nMarried            0.364569  1.000000    0.334216  -0.012304       0.004489   \nDependents         0.172914  0.334216    1.000000  -0.055752       0.056798   \nEducation         -0.045364 -0.012304   -0.055752   1.000000       0.010383   \nSelf_Employed     -0.000525  0.004489    0.056798   0.010383       1.000000   \nApplicantIncome    0.058809  0.051708    0.118202   0.140760       0.127180   \nCoapplicantIncome  0.082912  0.075948    0.030430   0.062290      -0.016100   \nLoanAmount         0.107930  0.147141    0.163106   0.166998       0.115260   \nLoan_Amount_Term  -0.073567 -0.100863   -0.101054   0.077242      -0.033943   \nCredit_History     0.009170  0.010938   -0.040160   0.073658      -0.001550   \nProperty_Area     -0.025752  0.004257   -0.000244   0.065243      -0.030860   \nLoan_Status        0.017987  0.091478    0.010118   0.085884      -0.003700   \n\n                   ApplicantIncome  CoapplicantIncome  LoanAmount  \\\nGender                    0.058809           0.082912    0.107930   \nMarried                   0.051708           0.075948    0.147141   \nDependents                0.118202           0.030430    0.163106   \nEducation                 0.140760           0.062290    0.166998   \nSelf_Employed             0.127180          -0.016100    0.115260   \nApplicantIncome           1.000000          -0.116605    0.565620   \nCoapplicantIncome        -0.116605           1.000000    0.187828   \nLoanAmount                0.565620           0.187828    1.000000   \nLoan_Amount_Term         -0.045242          -0.059675    0.038801   \nCredit_History           -0.018615           0.011134   -0.001431   \nProperty_Area            -0.009500           0.010522   -0.044776   \nLoan_Status              -0.004710          -0.059187   -0.036416   \n\n                   Loan_Amount_Term  Credit_History  Property_Area  \\\nGender                    -0.073567        0.009170      -0.025752   \nMarried                   -0.100863        0.010938       0.004257   \nDependents                -0.101054       -0.040160      -0.000244   \nEducation                  0.077242        0.073658       0.065243   \nSelf_Employed             -0.033943       -0.001550      -0.030860   \nApplicantIncome           -0.045242       -0.018615      -0.009500   \nCoapplicantIncome         -0.059675        0.011134       0.010522   \nLoanAmount                 0.038801       -0.001431      -0.044776   \nLoan_Amount_Term           1.000000        0.000432      -0.077620   \nCredit_History             0.000432        1.000000       0.001963   \nProperty_Area             -0.077620        0.001963       1.000000   \nLoan_Status               -0.020974        0.540556       0.032112   \n\n                   Loan_Status  \nGender                0.017987  \nMarried               0.091478  \nDependents            0.010118  \nEducation             0.085884  \nSelf_Employed        -0.003700  \nApplicantIncome      -0.004710  \nCoapplicantIncome    -0.059187  \nLoanAmount           -0.036416  \nLoan_Amount_Term     -0.020974  \nCredit_History        0.540556  \nProperty_Area         0.032112  \nLoan_Status           1.000000  ",
      "text/html": "<div>\n<style scoped>\n    .dataframe tbody tr th:only-of-type {\n        vertical-align: middle;\n    }\n\n    .dataframe tbody tr th {\n        vertical-align: top;\n    }\n\n    .dataframe thead th {\n        text-align: right;\n    }\n</style>\n<table border=\"1\" class=\"dataframe\">\n  <thead>\n    <tr style=\"text-align: right;\">\n      <th></th>\n      <th>Gender</th>\n      <th>Married</th>\n      <th>Dependents</th>\n      <th>Education</th>\n      <th>Self_Employed</th>\n      <th>ApplicantIncome</th>\n      <th>CoapplicantIncome</th>\n      <th>LoanAmount</th>\n      <th>Loan_Amount_Term</th>\n      <th>Credit_History</th>\n      <th>Property_Area</th>\n      <th>Loan_Status</th>\n    </tr>\n  </thead>\n  <tbody>\n    <tr>\n      <th>Gender</th>\n      <td>1.000000</td>\n      <td>0.364569</td>\n      <td>0.172914</td>\n      <td>-0.045364</td>\n      <td>-0.000525</td>\n      <td>0.058809</td>\n      <td>0.082912</td>\n      <td>0.107930</td>\n      <td>-0.073567</td>\n      <td>0.009170</td>\n      <td>-0.025752</td>\n      <td>0.017987</td>\n    </tr>\n    <tr>\n      <th>Married</th>\n      <td>0.364569</td>\n      <td>1.000000</td>\n      <td>0.334216</td>\n      <td>-0.012304</td>\n      <td>0.004489</td>\n      <td>0.051708</td>\n      <td>0.075948</td>\n      <td>0.147141</td>\n      <td>-0.100863</td>\n      <td>0.010938</td>\n      <td>0.004257</td>\n      <td>0.091478</td>\n    </tr>\n    <tr>\n      <th>Dependents</th>\n      <td>0.172914</td>\n      <td>0.334216</td>\n      <td>1.000000</td>\n      <td>-0.055752</td>\n      <td>0.056798</td>\n      <td>0.118202</td>\n      <td>0.030430</td>\n      <td>0.163106</td>\n      <td>-0.101054</td>\n      <td>-0.040160</td>\n      <td>-0.000244</td>\n      <td>0.010118</td>\n    </tr>\n    <tr>\n      <th>Education</th>\n      <td>-0.045364</td>\n      <td>-0.012304</td>\n      <td>-0.055752</td>\n      <td>1.000000</td>\n      <td>0.010383</td>\n      <td>0.140760</td>\n      <td>0.062290</td>\n      <td>0.166998</td>\n      <td>0.077242</td>\n      <td>0.073658</td>\n      <td>0.065243</td>\n      <td>0.085884</td>\n    </tr>\n    <tr>\n      <th>Self_Employed</th>\n      <td>-0.000525</td>\n      <td>0.004489</td>\n      <td>0.056798</td>\n      <td>0.010383</td>\n      <td>1.000000</td>\n      <td>0.127180</td>\n      <td>-0.016100</td>\n      <td>0.115260</td>\n      <td>-0.033943</td>\n      <td>-0.001550</td>\n      <td>-0.030860</td>\n      <td>-0.003700</td>\n    </tr>\n    <tr>\n      <th>ApplicantIncome</th>\n      <td>0.058809</td>\n      <td>0.051708</td>\n      <td>0.118202</td>\n      <td>0.140760</td>\n      <td>0.127180</td>\n      <td>1.000000</td>\n      <td>-0.116605</td>\n      <td>0.565620</td>\n      <td>-0.045242</td>\n      <td>-0.018615</td>\n      <td>-0.009500</td>\n      <td>-0.004710</td>\n    </tr>\n    <tr>\n      <th>CoapplicantIncome</th>\n      <td>0.082912</td>\n      <td>0.075948</td>\n      <td>0.030430</td>\n      <td>0.062290</td>\n      <td>-0.016100</td>\n      <td>-0.116605</td>\n      <td>1.000000</td>\n      <td>0.187828</td>\n      <td>-0.059675</td>\n      <td>0.011134</td>\n      <td>0.010522</td>\n      <td>-0.059187</td>\n    </tr>\n    <tr>\n      <th>LoanAmount</th>\n      <td>0.107930</td>\n      <td>0.147141</td>\n      <td>0.163106</td>\n      <td>0.166998</td>\n      <td>0.115260</td>\n      <td>0.565620</td>\n      <td>0.187828</td>\n      <td>1.000000</td>\n      <td>0.038801</td>\n      <td>-0.001431</td>\n      <td>-0.044776</td>\n      <td>-0.036416</td>\n    </tr>\n    <tr>\n      <th>Loan_Amount_Term</th>\n      <td>-0.073567</td>\n      <td>-0.100863</td>\n      <td>-0.101054</td>\n      <td>0.077242</td>\n      <td>-0.033943</td>\n      <td>-0.045242</td>\n      <td>-0.059675</td>\n      <td>0.038801</td>\n      <td>1.000000</td>\n      <td>0.000432</td>\n      <td>-0.077620</td>\n      <td>-0.020974</td>\n    </tr>\n    <tr>\n      <th>Credit_History</th>\n      <td>0.009170</td>\n      <td>0.010938</td>\n      <td>-0.040160</td>\n      <td>0.073658</td>\n      <td>-0.001550</td>\n      <td>-0.018615</td>\n      <td>0.011134</td>\n      <td>-0.001431</td>\n      <td>0.000432</td>\n      <td>1.000000</td>\n      <td>0.001963</td>\n      <td>0.540556</td>\n    </tr>\n    <tr>\n      <th>Property_Area</th>\n      <td>-0.025752</td>\n      <td>0.004257</td>\n      <td>-0.000244</td>\n      <td>0.065243</td>\n      <td>-0.030860</td>\n      <td>-0.009500</td>\n      <td>0.010522</td>\n      <td>-0.044776</td>\n      <td>-0.077620</td>\n      <td>0.001963</td>\n      <td>1.000000</td>\n      <td>0.032112</td>\n    </tr>\n    <tr>\n      <th>Loan_Status</th>\n      <td>0.017987</td>\n      <td>0.091478</td>\n      <td>0.010118</td>\n      <td>0.085884</td>\n      <td>-0.003700</td>\n      <td>-0.004710</td>\n      <td>-0.059187</td>\n      <td>-0.036416</td>\n      <td>-0.020974</td>\n      <td>0.540556</td>\n      <td>0.032112</td>\n      <td>1.000000</td>\n    </tr>\n  </tbody>\n</table>\n</div>"
     },
     "execution_count": 114,
     "metadata": {},
     "output_type": "execute_result"
    }
   ],
   "source": [
    "corr_mat"
   ],
   "metadata": {
    "collapsed": false,
    "pycharm": {
     "name": "#%%\n"
    }
   }
  },
  {
   "cell_type": "markdown",
   "source": [
    "Relation features/target"
   ],
   "metadata": {
    "collapsed": false
   }
  },
  {
   "cell_type": "code",
   "execution_count": 115,
   "outputs": [],
   "source": [
    "#Gender"
   ],
   "metadata": {
    "collapsed": false,
    "pycharm": {
     "name": "#%%\n"
    }
   }
  },
  {
   "cell_type": "code",
   "execution_count": 116,
   "outputs": [],
   "source": [
    "men_count = df.loc[df.Gender == 1, 'Gender'].count()\n",
    "women_count = df.loc[df.Gender == 0, 'Gender'].count()\n",
    "men_positive_count = df.loc[(df.Gender == 1) & (df.Loan_Status == 1), 'Gender'].count()\n",
    "men_negative_count = df.loc[(df.Gender == 1) & (df.Loan_Status == 0), 'Gender'].count()\n",
    "women_positive_count = df.loc[(df.Gender == 0) & (df.Loan_Status == 1), 'Gender'].count()\n",
    "women_negative_count = df.loc[(df.Gender == 0) & (df.Loan_Status == 0), 'Gender'].count()"
   ],
   "metadata": {
    "collapsed": false,
    "pycharm": {
     "name": "#%%\n"
    }
   }
  },
  {
   "cell_type": "code",
   "execution_count": 117,
   "outputs": [
    {
     "name": "stdout",
     "output_type": "stream",
     "text": [
      "probability of a man to get a loan is 0.6912350597609562\n",
      "probability of a woman to get a loan is 0.6696428571428571\n"
     ]
    }
   ],
   "source": [
    "print(f'probability of a man to get a loan is {men_positive_count / men_count}')\n",
    "print(f'probability of a woman to get a loan is {women_positive_count / women_count}')"
   ],
   "metadata": {
    "collapsed": false,
    "pycharm": {
     "name": "#%%\n"
    }
   }
  },
  {
   "cell_type": "code",
   "execution_count": 118,
   "outputs": [
    {
     "data": {
      "text/plain": "<matplotlib.legend.Legend at 0x7f2d59f732b0>"
     },
     "execution_count": 118,
     "metadata": {},
     "output_type": "execute_result"
    },
    {
     "data": {
      "text/plain": "<Figure size 432x288 with 1 Axes>",
      "image/png": "[encoded data removed]"
     },
     "metadata": {
      "needs_background": "light"
     },
     "output_type": "display_data"
    }
   ],
   "source": [
    "got_loan = [men_positive_count, women_positive_count]\n",
    "didnt_get_loan = [men_negative_count, women_negative_count]\n",
    "plt.bar(['men', 'women'], got_loan, label='got_loan')\n",
    "plt.bar(['men', 'women'], didnt_get_loan, bottom=got_loan, label='didnt_get_loan')\n",
    "plt.legend()"
   ],
   "metadata": {
    "collapsed": false,
    "pycharm": {
     "name": "#%%\n"
    }
   }
  },
  {
   "cell_type": "code",
   "execution_count": 119,
   "outputs": [],
   "source": [
    "#Education"
   ],
   "metadata": {
    "collapsed": false,
    "pycharm": {
     "name": "#%%\n"
    }
   }
  },
  {
   "cell_type": "code",
   "execution_count": 120,
   "outputs": [],
   "source": [
    "graduate_count = df.loc[df.Education == 1, 'Gender'].count()\n",
    "not_graduate_count = df.loc[df.Education == 0, 'Gender'].count()\n",
    "graduate_positive_count = df.loc[(df.Education == 1) & (df.Loan_Status == 1), 'Gender'].count()\n",
    "graduate_negative_count = df.loc[(df.Education == 1) & (df.Loan_Status == 0), 'Gender'].count()\n",
    "not_graduate_positive_count = df.loc[(df.Education == 0) & (df.Loan_Status == 1), 'Gender'].count()\n",
    "not_graduate_negative_count = df.loc[(df.Education == 0) & (df.Loan_Status == 0), 'Gender'].count()"
   ],
   "metadata": {
    "collapsed": false,
    "pycharm": {
     "name": "#%%\n"
    }
   }
  },
  {
   "cell_type": "code",
   "execution_count": 121,
   "outputs": [
    {
     "name": "stdout",
     "output_type": "stream",
     "text": [
      "probability of getting a loan while being a graduate is 0.7083333333333334\n",
      "probability of getting a loan while not being a graduate is 0.6119402985074627\n"
     ]
    }
   ],
   "source": [
    "print(f'probability of getting a loan while being a graduate is {graduate_positive_count / graduate_count}')\n",
    "print(f'probability of getting a loan while not being a graduate is {not_graduate_positive_count / not_graduate_count}')"
   ],
   "metadata": {
    "collapsed": false,
    "pycharm": {
     "name": "#%%\n"
    }
   }
  },
  {
   "cell_type": "code",
   "execution_count": 122,
   "outputs": [],
   "source": [
    "#Married"
   ],
   "metadata": {
    "collapsed": false,
    "pycharm": {
     "name": "#%%\n"
    }
   }
  },
  {
   "cell_type": "code",
   "execution_count": 123,
   "outputs": [],
   "source": [
    "married_count = df.loc[df.Married == 1, 'Gender'].count()\n",
    "not_married_count = df.loc[df.Married == 0, 'Gender'].count()\n",
    "married_positive_count = df.loc[(df.Married == 1) & (df.Loan_Status == 1), 'Gender'].count()\n",
    "married_negative_count = df.loc[(df.Married == 1) & (df.Loan_Status == 0), 'Gender'].count()\n",
    "not_married_positive_count = df.loc[(df.Married == 0) & (df.Loan_Status == 1), 'Gender'].count()\n",
    "not_married_negative_count = df.loc[(df.Married == 0) & (df.Loan_Status == 0), 'Gender'].count()"
   ],
   "metadata": {
    "collapsed": false,
    "pycharm": {
     "name": "#%%\n"
    }
   }
  },
  {
   "cell_type": "code",
   "execution_count": 124,
   "outputs": [
    {
     "name": "stdout",
     "output_type": "stream",
     "text": [
      "probability of getting a loan while being married is 0.7182044887780549\n",
      "probability of getting a loan while not being married is 0.6291079812206573\n"
     ]
    }
   ],
   "source": [
    "print(f'probability of getting a loan while being married is {married_positive_count / married_count}')\n",
    "print(f'probability of getting a loan while not being married is {not_married_positive_count / not_married_count}')"
   ],
   "metadata": {
    "collapsed": false,
    "pycharm": {
     "name": "#%%\n"
    }
   }
  },
  {
   "cell_type": "code",
   "execution_count": 125,
   "outputs": [],
   "source": [
    "#Loan_amount"
   ],
   "metadata": {
    "collapsed": false,
    "pycharm": {
     "name": "#%%\n"
    }
   }
  },
  {
   "cell_type": "code",
   "execution_count": 126,
   "outputs": [],
   "source": [
    "loan_amount_pos = df.loc[df.Loan_Status == 1, 'LoanAmount']\n",
    "loan_amount_neg = df.loc[df.Loan_Status == 0, 'LoanAmount']"
   ],
   "metadata": {
    "collapsed": false,
    "pycharm": {
     "name": "#%%\n"
    }
   }
  },
  {
   "cell_type": "code",
   "execution_count": 127,
   "outputs": [
    {
     "data": {
      "text/plain": "<matplotlib.legend.Legend at 0x7f2d59f4bfd0>"
     },
     "execution_count": 127,
     "metadata": {},
     "output_type": "execute_result"
    },
    {
     "data": {
      "text/plain": "<Figure size 432x288 with 1 Axes>",
      "image/png": "[encoded data removed]"
     },
     "metadata": {
      "needs_background": "light"
     },
     "output_type": "display_data"
    }
   ],
   "source": [
    "plt.hist(loan_amount_pos, density=True, label='got loan')\n",
    "plt.hist(loan_amount_neg, density=True, label='didnt get loan')\n",
    "plt.legend()"
   ],
   "metadata": {
    "collapsed": false,
    "pycharm": {
     "name": "#%%\n"
    }
   }
  },
  {
   "cell_type": "code",
   "execution_count": 128,
   "outputs": [
    {
     "data": {
      "text/plain": "<matplotlib.legend.Legend at 0x7f2d59e8a0a0>"
     },
     "execution_count": 128,
     "metadata": {},
     "output_type": "execute_result"
    },
    {
     "data": {
      "text/plain": "<Figure size 432x288 with 1 Axes>",
      "image/png": "[encoded data removed]"
     },
     "metadata": {
      "needs_background": "light"
     },
     "output_type": "display_data"
    }
   ],
   "source": [
    "#ApplicantIncome\n",
    "applicant_income_pos = df.loc[df.Loan_Status == 1, 'ApplicantIncome']\n",
    "applicant_income_neg = df.loc[df.Loan_Status == 0, 'ApplicantIncome']\n",
    "plt.hist(applicant_income_pos, density=True, label='got loan')\n",
    "plt.hist(applicant_income_neg, density=True, label='didnt get loan')\n",
    "plt.legend()"
   ],
   "metadata": {
    "collapsed": false,
    "pycharm": {
     "name": "#%%\n"
    }
   }
  },
  {
   "cell_type": "code",
   "execution_count": 129,
   "outputs": [
    {
     "data": {
      "text/plain": "<matplotlib.legend.Legend at 0x7f2d59df4e20>"
     },
     "execution_count": 129,
     "metadata": {},
     "output_type": "execute_result"
    },
    {
     "data": {
      "text/plain": "<Figure size 432x288 with 1 Axes>",
      "image/png": "[encoded data removed]"
     },
     "metadata": {
      "needs_background": "light"
     },
     "output_type": "display_data"
    }
   ],
   "source": [
    "#totalIncome\n",
    "total_income_pos = df.loc[df.Loan_Status == 1, 'ApplicantIncome'] + df.loc[df.Loan_Status == 1, 'CoapplicantIncome']\n",
    "total_income_neg = df.loc[df.Loan_Status == 0, 'ApplicantIncome'] + df.loc[df.Loan_Status == 0, 'CoapplicantIncome']\n",
    "plt.hist(total_income_pos, density=True, label='got loan')\n",
    "plt.hist(total_income_neg, density=True, label='didnt get loan')\n",
    "plt.legend()"
   ],
   "metadata": {
    "collapsed": false,
    "pycharm": {
     "name": "#%%\n"
    }
   }
  },
  {
   "cell_type": "code",
   "execution_count": 130,
   "outputs": [
    {
     "data": {
      "text/plain": "<matplotlib.legend.Legend at 0x7f2d59d2bc40>"
     },
     "execution_count": 130,
     "metadata": {},
     "output_type": "execute_result"
    },
    {
     "data": {
      "text/plain": "<Figure size 432x288 with 1 Axes>",
      "image/png": "[encoded data removed]"
     },
     "metadata": {
      "needs_background": "light"
     },
     "output_type": "display_data"
    }
   ],
   "source": [
    "#term\n",
    "term_pos = df.loc[df.Loan_Status == 1, 'Loan_Amount_Term']\n",
    "term_neg = df.loc[df.Loan_Status == 0, 'Loan_Amount_Term']\n",
    "plt.hist(term_pos, density=True, label='got loan')\n",
    "plt.hist(term_neg, density=True, label='didnt get loan')\n",
    "plt.legend()"
   ],
   "metadata": {
    "collapsed": false,
    "pycharm": {
     "name": "#%%\n"
    }
   }
  },
  {
   "cell_type": "code",
   "execution_count": 131,
   "outputs": [
    {
     "data": {
      "text/plain": "<matplotlib.legend.Legend at 0x7f2d59cbda90>"
     },
     "execution_count": 131,
     "metadata": {},
     "output_type": "execute_result"
    },
    {
     "data": {
      "text/plain": "<Figure size 432x288 with 1 Axes>",
      "image/png": "[encoded data removed]"
     },
     "metadata": {
      "needs_background": "light"
     },
     "output_type": "display_data"
    }
   ],
   "source": [
    "#revenue-loan\n",
    "diff_pos = total_income_pos / 12 - (loan_amount_pos * 1000) / term_pos\n",
    "diff_neg = total_income_neg / 12 - (loan_amount_neg * 1000) / term_neg\n",
    "plt.hist(diff_pos, density=True, label='got loan')\n",
    "plt.hist(diff_neg, density=True, label='didnt get loan')\n",
    "plt.legend()"
   ],
   "metadata": {
    "collapsed": false,
    "pycharm": {
     "name": "#%%\n"
    }
   }
  },
  {
   "cell_type": "code",
   "execution_count": 132,
   "outputs": [
    {
     "name": "stdout",
     "output_type": "stream",
     "text": [
      "probability to get a loan while having no dependents is 0.6861111111111111\n",
      "probability to get a loan while having 1 dependent is 0.6470588235294118\n",
      "probability to get a loan while having 2 dependents is 0.7524752475247525\n",
      "probability to get a loan while having +3 dependent is 0.6470588235294118\n"
     ]
    }
   ],
   "source": [
    "#dependencies\n",
    "no_dendencies_count = df.loc[df.Dependents == 0, 'Gender'].count()\n",
    "one_dendencie_count = df.loc[df.Dependents == 1, 'Gender'].count()\n",
    "two_dendencies_count = df.loc[df.Dependents == 2, 'Gender'].count()\n",
    "morethanthree_dendencies_count = df.loc[df.Dependents == 3, 'Gender'].count()\n",
    "no_dendencies_positive_count = df.loc[(df.Dependents == 0) & (df.Loan_Status == 1), 'Gender'].count()\n",
    "one_dendencie_positive_count = df.loc[(df.Dependents == 1) & (df.Loan_Status == 1), 'Gender'].count()\n",
    "two_dendencies_positive_count = df.loc[(df.Dependents == 2) & (df.Loan_Status == 1), 'Gender'].count()\n",
    "morethanthree_dendencies_positive_count = df.loc[(df.Dependents == 3) & (df.Loan_Status == 1), 'Gender'].count()\n",
    "print(f'probability to get a loan while having no dependents is {no_dendencies_positive_count / no_dendencies_count}')\n",
    "print(f'probability to get a loan while having 1 dependent is {one_dendencie_positive_count / one_dendencie_count}')\n",
    "print(f'probability to get a loan while having 2 dependents is {two_dendencies_positive_count / two_dendencies_count}')\n",
    "print(\n",
    "    f'probability to get a loan while having +3 dependent is {morethanthree_dendencies_positive_count / morethanthree_dendencies_count}')"
   ],
   "metadata": {
    "collapsed": false,
    "pycharm": {
     "name": "#%%\n"
    }
   }
  },
  {
   "cell_type": "markdown",
   "source": [
    "CLASSIFICATION"
   ],
   "metadata": {
    "collapsed": false
   }
  },
  {
   "cell_type": "code",
   "execution_count": 138,
   "outputs": [
    {
     "name": "stdout",
     "output_type": "stream",
     "text": [
      "0.7821138211382115\n"
     ]
    }
   ],
   "source": [
    "#Using brut data\n",
    "from sklearn.model_selection import ShuffleSplit\n",
    "from sklearn.ensemble import RandomForestClassifier\n",
    "\n",
    "rs = ShuffleSplit(n_splits=5, test_size=0.2, random_state=0)\n",
    "scores = []\n",
    "for train_index, test_index in rs.split(df):\n",
    "    X_train = df.loc[train_index].drop(['Loan_Status'], axis=1)\n",
    "    X_test = df.loc[test_index].drop(['Loan_Status'], axis=1)\n",
    "    y_train = df.loc[train_index, 'Loan_Status']\n",
    "    y_test = df.loc[test_index, 'Loan_Status']\n",
    "    clf = RandomForestClassifier()\n",
    "    clf.fit(X_train, y_train)\n",
    "    scores.append(clf.score(X_test, y_test))\n",
    "print(sum(scores) / len(scores))\n",
    "\n"
   ],
   "metadata": {
    "collapsed": false,
    "pycharm": {
     "name": "#%%\n"
    }
   }
  },
  {
   "cell_type": "code",
   "execution_count": 134,
   "outputs": [],
   "source": [
    "def remove_outliers(x, y):\n",
    "    df = x[['ApplicantIncome', 'CoapplicantIncome', 'LoanAmount']]\n",
    "    Q1 = df.quantile(0.25)\n",
    "    Q3 = df.quantile(0.75)\n",
    "    IQR = Q3 - Q1\n",
    "    return x.loc[~((df < (Q1 - 1.5 * IQR)) | (df > (Q3 + 1.5 * IQR))).any(axis=1)],\n",
    "           y.loc[~((df < (Q1 - 1.5 * IQR)) | (df > (Q3 + 1.5 * IQR))).any(axis=1)]"
   ],
   "metadata": {
    "collapsed": false,
    "pycharm": {
     "name": "#%%\n"
    }
   }
  },
  {
   "cell_type": "code",
   "execution_count": 139,
   "outputs": [
    {
     "name": "stdout",
     "output_type": "stream",
     "text": [
      "0.775609756097561\n"
     ]
    }
   ],
   "source": [
    "#pre processed data data\n",
    "from sklearn.model_selection import ShuffleSplit\n",
    "from sklearn.svm import SVC\n",
    "from sklearn.preprocessing import MinMaxScaler\n",
    "from imblearn.over_sampling import SMOTE\n",
    "\n",
    "rs = ShuffleSplit(n_splits=5, test_size=0.2, random_state=0)\n",
    "scores = []\n",
    "for train_index, test_index in rs.split(df):\n",
    "    X_train = df.loc[train_index].drop(['Loan_Status'], axis=1)\n",
    "    X_test = df.loc[test_index].drop(['Loan_Status'], axis=1)\n",
    "    y_train = df.loc[train_index, 'Loan_Status']\n",
    "    y_test = df.loc[test_index, 'Loan_Status']\n",
    "    X_train, y_train = remove_outliers(X_train, y_train)\n",
    "    #square root transformation\n",
    "    X_train.ApplicantIncome = np.sqrt(X_train.ApplicantIncome)\n",
    "    X_train.CoapplicantIncome = np.sqrt(X_train.CoapplicantIncome)\n",
    "    X_train.LoanAmount = np.sqrt(X_train.LoanAmount)\n",
    "    X_test.ApplicantIncome = np.sqrt(X_test.ApplicantIncome)\n",
    "    X_test.CoapplicantIncome = np.sqrt(X_test.CoapplicantIncome)\n",
    "    X_test.LoanAmount = np.sqrt(X_test.LoanAmount)\n",
    "    #data_normalization\n",
    "    scaler = MinMaxScaler()\n",
    "    scaler.fit(X_train)\n",
    "    scaler.transform(X_train)\n",
    "    scaler.transform(X_test)\n",
    "    #got_loan >> didnt_get_loan, We need to resample\n",
    "    X_train, y_train = SMOTE().fit_resample(X_train, y_train)\n",
    "    clf = RandomForestClassifier()\n",
    "    clf.fit(X_train, y_train)\n",
    "    scores.append(clf.score(X_test, y_test))\n",
    "print(sum(scores) / len(scores))"
   ],
   "metadata": {
    "collapsed": false,
    "pycharm": {
     "name": "#%%\n"
    }
   }
  },
  {
   "cell_type": "code",
   "execution_count": 135,
   "outputs": [],
   "source": [],
   "metadata": {
    "collapsed": false,
    "pycharm": {
     "name": "#%%\n"
    }
   }
  }
 ],
 "metadata": {
  "kernelspec": {
   "display_name": "Python 3",
   "language": "python",
   "name": "python3"
  },
  "language_info": {
   "codemirror_mode": {
    "name": "ipython",
    "version": 2
   },
   "file_extension": ".py",
   "mimetype": "text/x-python",
   "name": "python",
   "nbconvert_exporter": "python",
   "pygments_lexer": "ipython2",
   "version": "2.7.6"
  }
 },
 "nbformat": 4,
 "nbformat_minor": 0
}